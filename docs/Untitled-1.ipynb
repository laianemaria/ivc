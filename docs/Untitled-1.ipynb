{
 "cells": [
  {
   "cell_type": "code",
   "execution_count": 11,
   "id": "3cf33ce2",
   "metadata": {},
   "outputs": [],
   "source": [
    "import os\n",
    "import geopandas as gpd\n",
    "\n",
    "input_file = 'shp/BR_Municipios_2024.shp'\n",
    "output_fodler = 'states'\n",
    "\n",
    "essential_columns = ['NM_MUN', 'SIGLA_UF', 'geometry']\n",
    "\n",
    "gdf = gpd.read_file(input_file)\n",
    "gdf = gdf[essential_columns]\n",
    "\n",
    "lista_ufs = gdf['SIGLA_UF'].unique()\n",
    "\n",
    "for uf in lista_ufs:\n",
    "    gdf_estado = gdf[gdf['SIGLA_UF'] == uf].copy()\n",
    "    if os.path.exists(output_fodler) is False:\n",
    "        os.makedirs(output_fodler, exist_ok=True)\n",
    "    caminho_saida = os.path.join(output_fodler, f'{uf}.geojson')\n",
    "    gdf_estado.to_file(caminho_saida, driver='GeoJSON')\n",
    "\n",
    "#gdf.to_file(output_file, driver='GeoJSON')\n"
   ]
  }
 ],
 "metadata": {
  "kernelspec": {
   "display_name": "LEVO",
   "language": "python",
   "name": "python3"
  },
  "language_info": {
   "codemirror_mode": {
    "name": "ipython",
    "version": 3
   },
   "file_extension": ".py",
   "mimetype": "text/x-python",
   "name": "python",
   "nbconvert_exporter": "python",
   "pygments_lexer": "ipython3",
   "version": "3.12.4"
  }
 },
 "nbformat": 4,
 "nbformat_minor": 5
}
